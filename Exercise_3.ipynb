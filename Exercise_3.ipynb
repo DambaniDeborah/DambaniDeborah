{
  "nbformat": 4,
  "nbformat_minor": 0,
  "metadata": {
    "colab": {
      "provenance": [],
      "authorship_tag": "ABX9TyOYIXvj7tAihXnI0585UTRx",
      "include_colab_link": true
    },
    "kernelspec": {
      "name": "ir",
      "display_name": "R"
    },
    "language_info": {
      "name": "R"
    }
  },
  "cells": [
    {
      "cell_type": "markdown",
      "metadata": {
        "id": "view-in-github",
        "colab_type": "text"
      },
      "source": [
        "<a href=\"https://colab.research.google.com/github/DambaniDeborah/DambaniDeborah/blob/main/Exercise_3.ipynb\" target=\"_parent\"><img src=\"https://colab.research.google.com/assets/colab-badge.svg\" alt=\"Open In Colab\"/></a>"
      ]
    },
    {
      "cell_type": "code",
      "execution_count": null,
      "metadata": {
        "id": "UaTmptou9jJ3"
      },
      "outputs": [],
      "source": [
        "#Write a function that returns the first element of its argument."
      ]
    },
    {
      "cell_type": "code",
      "source": [
        "first<- function(x){\n",
        "  return(x[1])\n",
        "}\n"
      ],
      "metadata": {
        "id": "DHXGkhJG-J6d"
      },
      "execution_count": 20,
      "outputs": []
    },
    {
      "cell_type": "code",
      "source": [
        "#Write a function that takes an integer and returns a day of the week."
      ],
      "metadata": {
        "id": "eAFoYJU3_Y8c"
      },
      "execution_count": null,
      "outputs": []
    },
    {
      "cell_type": "code",
      "source": [
        "Day<- function(x){\n",
        "  y<- c('Monday', 'Tuesday', 'Wednesday', 'Thursday', 'Friday', 'Saturday', 'Sunday')\n",
        "  z<- rep(y, times= 0)\n",
        "  if(is.numeric(x)== T){\n",
        "    x<- as.integer(x)\n",
        "    if(x> length(z) | x<= 0){\n",
        "      print('Out of Range')\n",
        "    }else{\n",
        "      return(z[x])\n",
        "    }\n",
        "  }else{\n",
        "    print('Please input a number')\n",
        "  }\n",
        "}"
      ],
      "metadata": {
        "id": "wARykw-nD8v9"
      },
      "execution_count": 52,
      "outputs": []
    },
    {
      "cell_type": "code",
      "source": [
        "Day('a')"
      ],
      "metadata": {
        "colab": {
          "base_uri": "https://localhost:8080/"
        },
        "id": "768crNLOHxpf",
        "outputId": "1b5f4f57-665d-456c-bcd3-05f6adcfa733"
      },
      "execution_count": 54,
      "outputs": [
        {
          "output_type": "stream",
          "name": "stdout",
          "text": [
            "[1] \"Please input a number\"\n"
          ]
        }
      ]
    },
    {
      "cell_type": "code",
      "source": [
        "#Write a function that replaces all missing values in a vector with\n",
        "#the mean of the non￾missing values, returning the\n",
        "#fully-defined vector."
      ],
      "metadata": {
        "id": "WpBTlQVEGi4a"
      },
      "execution_count": 43,
      "outputs": []
    },
    {
      "cell_type": "code",
      "source": [
        "replace<- function(x){\n",
        "  nonmissingvalues<- c()\n",
        "  missingvalues<- c()\n",
        "  if(is.vector(x)== T && is.numeric(x)== T){\n",
        "    for(i in 1: length(x)){\n",
        "      if(is.na(x[i])== F & is.nan(x[i])== F){\n",
        "        nonmissingvalues<- c(nonmissingvalues, x[i])\n",
        "      }else{\n",
        "        missingvalues<- c(missingvalues, x[i])\n",
        "      }\n",
        "    }\n",
        "    average<- round(mean(nonmissingvalues), 1)\n",
        "    for(i in 1: length(x)){\n",
        "      if(is.na(x[i])== T | is.nan(x[i])== T){\n",
        "        x[i]<- average\n",
        "      }\n",
        "\n",
        "    }\n",
        "    return(x)\n",
        "  }else{\n",
        "    print('try again')\n",
        "  }\n",
        "}"
      ],
      "metadata": {
        "id": "VkY63KOZKNCg"
      },
      "execution_count": 75,
      "outputs": []
    },
    {
      "cell_type": "code",
      "source": [
        "y<- c(1:4, NA, 5, 8,NA, NaN)\n"
      ],
      "metadata": {
        "id": "GVGkE0AgSo_2"
      },
      "execution_count": 72,
      "outputs": []
    },
    {
      "cell_type": "code",
      "source": [
        "replace(y)"
      ],
      "metadata": {
        "colab": {
          "base_uri": "https://localhost:8080/",
          "height": 34
        },
        "id": "WlKMHGvKTBew",
        "outputId": "7970b1d4-8390-45fc-d42c-558a735f0cb1"
      },
      "execution_count": 77,
      "outputs": [
        {
          "output_type": "display_data",
          "data": {
            "text/html": [
              "<style>\n",
              ".list-inline {list-style: none; margin:0; padding: 0}\n",
              ".list-inline>li {display: inline-block}\n",
              ".list-inline>li:not(:last-child)::after {content: \"\\00b7\"; padding: 0 .5ex}\n",
              "</style>\n",
              "<ol class=list-inline><li>1</li><li>2</li><li>3</li><li>4</li><li>3.8</li><li>5</li><li>8</li><li>3.8</li><li>3.8</li></ol>\n"
            ],
            "text/markdown": "1. 1\n2. 2\n3. 3\n4. 4\n5. 3.8\n6. 5\n7. 8\n8. 3.8\n9. 3.8\n\n\n",
            "text/latex": "\\begin{enumerate*}\n\\item 1\n\\item 2\n\\item 3\n\\item 4\n\\item 3.8\n\\item 5\n\\item 8\n\\item 3.8\n\\item 3.8\n\\end{enumerate*}\n",
            "text/plain": [
              "[1] 1.0 2.0 3.0 4.0 3.8 5.0 8.0 3.8 3.8"
            ]
          },
          "metadata": {}
        }
      ]
    },
    {
      "cell_type": "code",
      "source": [],
      "metadata": {
        "id": "4gxOVmluYv2C"
      },
      "execution_count": null,
      "outputs": []
    }
  ]
}