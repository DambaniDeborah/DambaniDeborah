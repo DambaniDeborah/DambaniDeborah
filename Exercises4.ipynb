{
  "nbformat": 4,
  "nbformat_minor": 0,
  "metadata": {
    "colab": {
      "provenance": [],
      "authorship_tag": "ABX9TyO2R4PBCzilbUOBePsAieBS",
      "include_colab_link": true
    },
    "kernelspec": {
      "name": "ir",
      "display_name": "R"
    },
    "language_info": {
      "name": "R"
    }
  },
  "cells": [
    {
      "cell_type": "markdown",
      "metadata": {
        "id": "view-in-github",
        "colab_type": "text"
      },
      "source": [
        "<a href=\"https://colab.research.google.com/github/DambaniDeborah/DambaniDeborah/blob/main/Exercises4.ipynb\" target=\"_parent\"><img src=\"https://colab.research.google.com/assets/colab-badge.svg\" alt=\"Open In Colab\"/></a>"
      ]
    },
    {
      "cell_type": "code",
      "source": [
        "#problem1:load the sleep data set and determine the average sleep increase in hours by drug.\n"
      ],
      "metadata": {
        "id": "DsTETIGBS2vb"
      },
      "execution_count": null,
      "outputs": []
    },
    {
      "cell_type": "code",
      "source": [
        "head(sleep)"
      ],
      "metadata": {
        "colab": {
          "base_uri": "https://localhost:8080/",
          "height": 286
        },
        "id": "HNKf_UYITXHe",
        "outputId": "5a4116f2-92c6-4160-fb09-7caba2fb66c5"
      },
      "execution_count": null,
      "outputs": [
        {
          "output_type": "display_data",
          "data": {
            "text/html": [
              "<table class=\"dataframe\">\n",
              "<caption>A data.frame: 6 × 3</caption>\n",
              "<thead>\n",
              "\t<tr><th></th><th scope=col>extra</th><th scope=col>group</th><th scope=col>ID</th></tr>\n",
              "\t<tr><th></th><th scope=col>&lt;dbl&gt;</th><th scope=col>&lt;fct&gt;</th><th scope=col>&lt;fct&gt;</th></tr>\n",
              "</thead>\n",
              "<tbody>\n",
              "\t<tr><th scope=row>1</th><td> 0.7</td><td>1</td><td>1</td></tr>\n",
              "\t<tr><th scope=row>2</th><td>-1.6</td><td>1</td><td>2</td></tr>\n",
              "\t<tr><th scope=row>3</th><td>-0.2</td><td>1</td><td>3</td></tr>\n",
              "\t<tr><th scope=row>4</th><td>-1.2</td><td>1</td><td>4</td></tr>\n",
              "\t<tr><th scope=row>5</th><td>-0.1</td><td>1</td><td>5</td></tr>\n",
              "\t<tr><th scope=row>6</th><td> 3.4</td><td>1</td><td>6</td></tr>\n",
              "</tbody>\n",
              "</table>\n"
            ],
            "text/markdown": "\nA data.frame: 6 × 3\n\n| <!--/--> | extra &lt;dbl&gt; | group &lt;fct&gt; | ID &lt;fct&gt; |\n|---|---|---|---|\n| 1 |  0.7 | 1 | 1 |\n| 2 | -1.6 | 1 | 2 |\n| 3 | -0.2 | 1 | 3 |\n| 4 | -1.2 | 1 | 4 |\n| 5 | -0.1 | 1 | 5 |\n| 6 |  3.4 | 1 | 6 |\n\n",
            "text/latex": "A data.frame: 6 × 3\n\\begin{tabular}{r|lll}\n  & extra & group & ID\\\\\n  & <dbl> & <fct> & <fct>\\\\\n\\hline\n\t1 &  0.7 & 1 & 1\\\\\n\t2 & -1.6 & 1 & 2\\\\\n\t3 & -0.2 & 1 & 3\\\\\n\t4 & -1.2 & 1 & 4\\\\\n\t5 & -0.1 & 1 & 5\\\\\n\t6 &  3.4 & 1 & 6\\\\\n\\end{tabular}\n",
            "text/plain": [
              "  extra group ID\n",
              "1  0.7  1     1 \n",
              "2 -1.6  1     2 \n",
              "3 -0.2  1     3 \n",
              "4 -1.2  1     4 \n",
              "5 -0.1  1     5 \n",
              "6  3.4  1     6 "
            ]
          },
          "metadata": {}
        }
      ]
    },
    {
      "cell_type": "code",
      "source": [
        "unique(sleep$group)"
      ],
      "metadata": {
        "colab": {
          "base_uri": "https://localhost:8080/",
          "height": 52
        },
        "id": "C235FPSfTlkR",
        "outputId": "39e5a46e-6fa3-48e4-86d0-26a37e404a25"
      },
      "execution_count": null,
      "outputs": [
        {
          "output_type": "display_data",
          "data": {
            "text/html": [
              "<style>\n",
              ".list-inline {list-style: none; margin:0; padding: 0}\n",
              ".list-inline>li {display: inline-block}\n",
              ".list-inline>li:not(:last-child)::after {content: \"\\00b7\"; padding: 0 .5ex}\n",
              "</style>\n",
              "<ol class=list-inline><li>1</li><li>2</li></ol>\n",
              "\n",
              "<details>\n",
              "\t<summary style=display:list-item;cursor:pointer>\n",
              "\t\t<strong>Levels</strong>:\n",
              "\t</summary>\n",
              "\t<style>\n",
              "\t.list-inline {list-style: none; margin:0; padding: 0}\n",
              "\t.list-inline>li {display: inline-block}\n",
              "\t.list-inline>li:not(:last-child)::after {content: \"\\00b7\"; padding: 0 .5ex}\n",
              "\t</style>\n",
              "\t<ol class=list-inline><li>'1'</li><li>'2'</li></ol>\n",
              "</details>"
            ],
            "text/markdown": "1. 1\n2. 2\n\n\n\n**Levels**: 1. '1'\n2. '2'\n\n\n",
            "text/latex": "\\begin{enumerate*}\n\\item 1\n\\item 2\n\\end{enumerate*}\n\n\\emph{Levels}: \\begin{enumerate*}\n\\item '1'\n\\item '2'\n\\end{enumerate*}\n",
            "text/plain": [
              "[1] 1 2\n",
              "Levels: 1 2"
            ]
          },
          "metadata": {}
        }
      ]
    },
    {
      "cell_type": "code",
      "source": [
        "#from the data set, there are two drug groups (group 1 and 2)\n",
        "#what we're interested in is the average extra sleep per group\n",
        "\n",
        "\n",
        "tapply(X= sleep$extra, INDEX = sleep$group, FUN = mean, simplify = F)"
      ],
      "metadata": {
        "colab": {
          "base_uri": "https://localhost:8080/",
          "height": 114
        },
        "id": "4fycXe_DT1aE",
        "outputId": "c6d2aef2-205d-4d74-fe6d-20939efb160d"
      },
      "execution_count": null,
      "outputs": [
        {
          "output_type": "display_data",
          "data": {
            "text/html": [
              "<dl>\n",
              "\t<dt>$`1`</dt>\n",
              "\t\t<dd>0.75</dd>\n",
              "\t<dt>$`2`</dt>\n",
              "\t\t<dd>2.33</dd>\n",
              "</dl>\n"
            ],
            "text/markdown": "$`1`\n:   0.75\n$`2`\n:   2.33\n\n\n",
            "text/latex": "\\begin{description}\n\\item[\\$`1`] 0.75\n\\item[\\$`2`] 2.33\n\\end{description}\n",
            "text/plain": [
              "$`1`\n",
              "[1] 0.75\n",
              "\n",
              "$`2`\n",
              "[1] 2.33\n"
            ]
          },
          "metadata": {}
        }
      ]
    },
    {
      "cell_type": "code",
      "source": [
        "#Alternative:\n",
        "\n",
        "  for(i in 1:2){\n",
        "  x<-sleep[sleep$group==i,]\n",
        "  y<- mean(x$extra)\n",
        "  print(paste(c('Group', i, ':', y)))\n",
        "  }\n",
        "\n",
        "\n",
        "\n"
      ],
      "metadata": {
        "colab": {
          "base_uri": "https://localhost:8080/"
        },
        "id": "MQr4DHWfVI39",
        "outputId": "d5b8ec0e-e410-4b91-e71b-6370bf3d25ac"
      },
      "execution_count": null,
      "outputs": [
        {
          "output_type": "stream",
          "name": "stdout",
          "text": [
            "[1] \"Group\" \"1\"     \":\"     \"0.75\" \n",
            "[1] \"Group\" \"2\"     \":\"     \"2.33\" \n"
          ]
        }
      ]
    },
    {
      "cell_type": "code",
      "source": [
        "#problem 2: load the women data set and determine the average height and weight using apply\n",
        "#and lapply."
      ],
      "metadata": {
        "id": "RLbHMSVwTPmK"
      },
      "execution_count": null,
      "outputs": []
    },
    {
      "cell_type": "code",
      "source": [
        "head(women)"
      ],
      "metadata": {
        "colab": {
          "base_uri": "https://localhost:8080/",
          "height": 286
        },
        "id": "-KtaW62vaTmA",
        "outputId": "7ffbffb0-ed05-4d83-b905-12355e8eeb7f"
      },
      "execution_count": null,
      "outputs": [
        {
          "output_type": "display_data",
          "data": {
            "text/html": [
              "<table class=\"dataframe\">\n",
              "<caption>A data.frame: 6 × 2</caption>\n",
              "<thead>\n",
              "\t<tr><th></th><th scope=col>height</th><th scope=col>weight</th></tr>\n",
              "\t<tr><th></th><th scope=col>&lt;dbl&gt;</th><th scope=col>&lt;dbl&gt;</th></tr>\n",
              "</thead>\n",
              "<tbody>\n",
              "\t<tr><th scope=row>1</th><td>58</td><td>115</td></tr>\n",
              "\t<tr><th scope=row>2</th><td>59</td><td>117</td></tr>\n",
              "\t<tr><th scope=row>3</th><td>60</td><td>120</td></tr>\n",
              "\t<tr><th scope=row>4</th><td>61</td><td>123</td></tr>\n",
              "\t<tr><th scope=row>5</th><td>62</td><td>126</td></tr>\n",
              "\t<tr><th scope=row>6</th><td>63</td><td>129</td></tr>\n",
              "</tbody>\n",
              "</table>\n"
            ],
            "text/markdown": "\nA data.frame: 6 × 2\n\n| <!--/--> | height &lt;dbl&gt; | weight &lt;dbl&gt; |\n|---|---|---|\n| 1 | 58 | 115 |\n| 2 | 59 | 117 |\n| 3 | 60 | 120 |\n| 4 | 61 | 123 |\n| 5 | 62 | 126 |\n| 6 | 63 | 129 |\n\n",
            "text/latex": "A data.frame: 6 × 2\n\\begin{tabular}{r|ll}\n  & height & weight\\\\\n  & <dbl> & <dbl>\\\\\n\\hline\n\t1 & 58 & 115\\\\\n\t2 & 59 & 117\\\\\n\t3 & 60 & 120\\\\\n\t4 & 61 & 123\\\\\n\t5 & 62 & 126\\\\\n\t6 & 63 & 129\\\\\n\\end{tabular}\n",
            "text/plain": [
              "  height weight\n",
              "1 58     115   \n",
              "2 59     117   \n",
              "3 60     120   \n",
              "4 61     123   \n",
              "5 62     126   \n",
              "6 63     129   "
            ]
          },
          "metadata": {}
        }
      ]
    },
    {
      "cell_type": "code",
      "source": [
        "#using apply to calculate the average weight and height\n",
        "apply(X=women, MARGIN = 2, FUN = mean)"
      ],
      "metadata": {
        "colab": {
          "base_uri": "https://localhost:8080/",
          "height": 34
        },
        "id": "DwnbXxLpasH1",
        "outputId": "99150214-8506-4712-ede0-e180dc1e8198"
      },
      "execution_count": null,
      "outputs": [
        {
          "output_type": "display_data",
          "data": {
            "text/html": [
              "<style>\n",
              ".dl-inline {width: auto; margin:0; padding: 0}\n",
              ".dl-inline>dt, .dl-inline>dd {float: none; width: auto; display: inline-block}\n",
              ".dl-inline>dt::after {content: \":\\0020\"; padding-right: .5ex}\n",
              ".dl-inline>dt:not(:first-of-type) {padding-left: .5ex}\n",
              "</style><dl class=dl-inline><dt>height</dt><dd>65</dd><dt>weight</dt><dd>136.733333333333</dd></dl>\n"
            ],
            "text/markdown": "height\n:   65weight\n:   136.733333333333\n\n",
            "text/latex": "\\begin{description*}\n\\item[height] 65\n\\item[weight] 136.733333333333\n\\end{description*}\n",
            "text/plain": [
              "  height   weight \n",
              " 65.0000 136.7333 "
            ]
          },
          "metadata": {}
        }
      ]
    },
    {
      "cell_type": "code",
      "source": [
        "#using lapply\n",
        "args(lapply)\n"
      ],
      "metadata": {
        "colab": {
          "base_uri": "https://localhost:8080/",
          "height": 52
        },
        "id": "FSHYk_5GbEGu",
        "outputId": "dac48a70-60fd-4a2a-e3ca-1a6e9852c690"
      },
      "execution_count": null,
      "outputs": [
        {
          "output_type": "display_data",
          "data": {
            "text/html": [
              "<pre class=language-r><code>function (X, FUN, ...) \n",
              "NULL</code></pre>"
            ],
            "text/markdown": "```r\nfunction (X, FUN, ...) \nNULL\n```",
            "text/latex": "\\begin{minted}{r}\nfunction (X, FUN, ...) \nNULL\n\\end{minted}",
            "text/plain": [
              "function (X, FUN, ...) \n",
              "NULL"
            ]
          },
          "metadata": {}
        }
      ]
    },
    {
      "cell_type": "code",
      "source": [
        "lapply(X= women, FUN = mean)"
      ],
      "metadata": {
        "colab": {
          "base_uri": "https://localhost:8080/",
          "height": 114
        },
        "id": "7Dw249AybV7y",
        "outputId": "53900ade-3d94-4a1a-a220-c052bef025ba"
      },
      "execution_count": null,
      "outputs": [
        {
          "output_type": "display_data",
          "data": {
            "text/html": [
              "<dl>\n",
              "\t<dt>$height</dt>\n",
              "\t\t<dd>65</dd>\n",
              "\t<dt>$weight</dt>\n",
              "\t\t<dd>136.733333333333</dd>\n",
              "</dl>\n"
            ],
            "text/markdown": "$height\n:   65\n$weight\n:   136.733333333333\n\n\n",
            "text/latex": "\\begin{description}\n\\item[\\$height] 65\n\\item[\\$weight] 136.733333333333\n\\end{description}\n",
            "text/plain": [
              "$height\n",
              "[1] 65\n",
              "\n",
              "$weight\n",
              "[1] 136.7333\n"
            ]
          },
          "metadata": {}
        }
      ]
    },
    {
      "cell_type": "code",
      "source": [
        "#problem 3:Read in the data5.csv data set and create a new dataframe containing the average\n",
        "#DV and CRCL by DAY."
      ],
      "metadata": {
        "id": "VTn9Qujqbgby"
      },
      "execution_count": null,
      "outputs": []
    },
    {
      "cell_type": "code",
      "source": [
        "data5<-read.csv('data5.csv')\n",
        "head(data5)"
      ],
      "metadata": {
        "colab": {
          "base_uri": "https://localhost:8080/",
          "height": 286
        },
        "id": "zJ-BimgscYJQ",
        "outputId": "137271a2-e1d8-4897-9331-b36bb7a5838f"
      },
      "execution_count": 2,
      "outputs": [
        {
          "output_type": "display_data",
          "data": {
            "text/html": [
              "<table class=\"dataframe\">\n",
              "<caption>A data.frame: 6 × 14</caption>\n",
              "<thead>\n",
              "\t<tr><th></th><th scope=col>C</th><th scope=col>ID</th><th scope=col>DV</th><th scope=col>AMT</th><th scope=col>II</th><th scope=col>ADDL</th><th scope=col>TIME</th><th scope=col>RATE</th><th scope=col>HT</th><th scope=col>WT</th><th scope=col>CLCR</th><th scope=col>SEX</th><th scope=col>AGE</th><th scope=col>DAY</th></tr>\n",
              "\t<tr><th></th><th scope=col>&lt;int&gt;</th><th scope=col>&lt;int&gt;</th><th scope=col>&lt;dbl&gt;</th><th scope=col>&lt;int&gt;</th><th scope=col>&lt;int&gt;</th><th scope=col>&lt;int&gt;</th><th scope=col>&lt;dbl&gt;</th><th scope=col>&lt;int&gt;</th><th scope=col>&lt;int&gt;</th><th scope=col>&lt;chr&gt;</th><th scope=col>&lt;dbl&gt;</th><th scope=col>&lt;int&gt;</th><th scope=col>&lt;int&gt;</th><th scope=col>&lt;int&gt;</th></tr>\n",
              "</thead>\n",
              "<tbody>\n",
              "\t<tr><th scope=row>1</th><td>0</td><td>1</td><td> 0.00</td><td>900</td><td>12</td><td>9</td><td> 0.0</td><td>300</td><td>103</td><td>91</td><td>101.48</td><td>0</td><td>46</td><td>1</td></tr>\n",
              "\t<tr><th scope=row>2</th><td>0</td><td>1</td><td> 6.99</td><td>  0</td><td> 0</td><td>0</td><td> 1.5</td><td>  0</td><td>103</td><td>91</td><td>101.48</td><td>0</td><td>46</td><td>1</td></tr>\n",
              "\t<tr><th scope=row>3</th><td>0</td><td>1</td><td>12.66</td><td>  0</td><td> 0</td><td>0</td><td> 3.0</td><td>  0</td><td>103</td><td>91</td><td>101.48</td><td>0</td><td>46</td><td>1</td></tr>\n",
              "\t<tr><th scope=row>4</th><td>0</td><td>1</td><td> 5.31</td><td>  0</td><td> 0</td><td>0</td><td> 8.0</td><td>  0</td><td>103</td><td>91</td><td>101.48</td><td>0</td><td>46</td><td>1</td></tr>\n",
              "\t<tr><th scope=row>5</th><td>0</td><td>1</td><td> 2.39</td><td>  0</td><td> 0</td><td>0</td><td>11.9</td><td>  0</td><td>103</td><td>91</td><td>101.48</td><td>0</td><td>46</td><td>1</td></tr>\n",
              "\t<tr><th scope=row>6</th><td>0</td><td>1</td><td> 2.87</td><td>  0</td><td> 0</td><td>0</td><td>23.9</td><td>  0</td><td>103</td><td>91</td><td>101.48</td><td>0</td><td>46</td><td>1</td></tr>\n",
              "</tbody>\n",
              "</table>\n"
            ],
            "text/markdown": "\nA data.frame: 6 × 14\n\n| <!--/--> | C &lt;int&gt; | ID &lt;int&gt; | DV &lt;dbl&gt; | AMT &lt;int&gt; | II &lt;int&gt; | ADDL &lt;int&gt; | TIME &lt;dbl&gt; | RATE &lt;int&gt; | HT &lt;int&gt; | WT &lt;chr&gt; | CLCR &lt;dbl&gt; | SEX &lt;int&gt; | AGE &lt;int&gt; | DAY &lt;int&gt; |\n|---|---|---|---|---|---|---|---|---|---|---|---|---|---|---|\n| 1 | 0 | 1 |  0.00 | 900 | 12 | 9 |  0.0 | 300 | 103 | 91 | 101.48 | 0 | 46 | 1 |\n| 2 | 0 | 1 |  6.99 |   0 |  0 | 0 |  1.5 |   0 | 103 | 91 | 101.48 | 0 | 46 | 1 |\n| 3 | 0 | 1 | 12.66 |   0 |  0 | 0 |  3.0 |   0 | 103 | 91 | 101.48 | 0 | 46 | 1 |\n| 4 | 0 | 1 |  5.31 |   0 |  0 | 0 |  8.0 |   0 | 103 | 91 | 101.48 | 0 | 46 | 1 |\n| 5 | 0 | 1 |  2.39 |   0 |  0 | 0 | 11.9 |   0 | 103 | 91 | 101.48 | 0 | 46 | 1 |\n| 6 | 0 | 1 |  2.87 |   0 |  0 | 0 | 23.9 |   0 | 103 | 91 | 101.48 | 0 | 46 | 1 |\n\n",
            "text/latex": "A data.frame: 6 × 14\n\\begin{tabular}{r|llllllllllllll}\n  & C & ID & DV & AMT & II & ADDL & TIME & RATE & HT & WT & CLCR & SEX & AGE & DAY\\\\\n  & <int> & <int> & <dbl> & <int> & <int> & <int> & <dbl> & <int> & <int> & <chr> & <dbl> & <int> & <int> & <int>\\\\\n\\hline\n\t1 & 0 & 1 &  0.00 & 900 & 12 & 9 &  0.0 & 300 & 103 & 91 & 101.48 & 0 & 46 & 1\\\\\n\t2 & 0 & 1 &  6.99 &   0 &  0 & 0 &  1.5 &   0 & 103 & 91 & 101.48 & 0 & 46 & 1\\\\\n\t3 & 0 & 1 & 12.66 &   0 &  0 & 0 &  3.0 &   0 & 103 & 91 & 101.48 & 0 & 46 & 1\\\\\n\t4 & 0 & 1 &  5.31 &   0 &  0 & 0 &  8.0 &   0 & 103 & 91 & 101.48 & 0 & 46 & 1\\\\\n\t5 & 0 & 1 &  2.39 &   0 &  0 & 0 & 11.9 &   0 & 103 & 91 & 101.48 & 0 & 46 & 1\\\\\n\t6 & 0 & 1 &  2.87 &   0 &  0 & 0 & 23.9 &   0 & 103 & 91 & 101.48 & 0 & 46 & 1\\\\\n\\end{tabular}\n",
            "text/plain": [
              "  C ID DV    AMT II ADDL TIME RATE HT  WT CLCR   SEX AGE DAY\n",
              "1 0 1   0.00 900 12 9     0.0 300  103 91 101.48 0   46  1  \n",
              "2 0 1   6.99   0  0 0     1.5   0  103 91 101.48 0   46  1  \n",
              "3 0 1  12.66   0  0 0     3.0   0  103 91 101.48 0   46  1  \n",
              "4 0 1   5.31   0  0 0     8.0   0  103 91 101.48 0   46  1  \n",
              "5 0 1   2.39   0  0 0    11.9   0  103 91 101.48 0   46  1  \n",
              "6 0 1   2.87   0  0 0    23.9   0  103 91 101.48 0   46  1  "
            ]
          },
          "metadata": {}
        }
      ]
    },
    {
      "cell_type": "code",
      "source": [
        "#explore data\n",
        "summary(data5)"
      ],
      "metadata": {
        "colab": {
          "base_uri": "https://localhost:8080/",
          "height": 528
        },
        "id": "uCLhbpd8f5C0",
        "outputId": "90bd9ff2-c73d-4147-bd32-f8400a9e82b0"
      },
      "execution_count": null,
      "outputs": [
        {
          "output_type": "display_data",
          "data": {
            "text/plain": [
              "       C           ID              DV              AMT            II      \n",
              " Min.   :0   Min.   : 1.00   Min.   : 0.000   Min.   :  0   Min.   : 0.0  \n",
              " 1st Qu.:0   1st Qu.:10.75   1st Qu.: 2.127   1st Qu.:  0   1st Qu.: 0.0  \n",
              " Median :0   Median :20.50   Median : 3.520   Median :  0   Median : 0.0  \n",
              " Mean   :0   Mean   :20.50   Mean   : 4.279   Mean   : 60   Mean   : 0.8  \n",
              " 3rd Qu.:0   3rd Qu.:30.25   3rd Qu.: 5.930   3rd Qu.:  0   3rd Qu.: 0.0  \n",
              " Max.   :0   Max.   :40.00   Max.   :21.280   Max.   :900   Max.   :12.0  \n",
              "      ADDL          TIME             RATE           HT        \n",
              " Min.   :0.0   Min.   :  0.00   Min.   :  0   Min.   : 41.00  \n",
              " 1st Qu.:0.0   1st Qu.:  8.00   1st Qu.:  0   1st Qu.: 59.25  \n",
              " Median :0.0   Median : 47.90   Median :  0   Median : 69.00  \n",
              " Mean   :0.6   Mean   : 60.82   Mean   : 20   Mean   : 70.33  \n",
              " 3rd Qu.:0.0   3rd Qu.:111.00   3rd Qu.:  0   3rd Qu.: 79.00  \n",
              " Max.   :9.0   Max.   :144.00   Max.   :300   Max.   :108.00  \n",
              "      WT                 CLCR             SEX             AGE       \n",
              " Length:600         Min.   :  4.58   Min.   :0.000   Min.   :38.00  \n",
              " Class :character   1st Qu.: 33.92   1st Qu.:0.000   1st Qu.:44.00  \n",
              " Mode  :character   Median : 47.88   Median :0.000   Median :45.50  \n",
              "                    Mean   : 54.54   Mean   :0.425   Mean   :45.65  \n",
              "                    3rd Qu.: 65.08   3rd Qu.:1.000   3rd Qu.:47.25  \n",
              "                    Max.   :192.38   Max.   :1.000   Max.   :51.00  \n",
              "      DAY     \n",
              " Min.   :1.0  \n",
              " 1st Qu.:1.0  \n",
              " Median :2.0  \n",
              " Mean   :1.6  \n",
              " 3rd Qu.:2.0  \n",
              " Max.   :2.0  "
            ]
          },
          "metadata": {}
        }
      ]
    },
    {
      "cell_type": "code",
      "source": [
        "\n",
        "str(data5)"
      ],
      "metadata": {
        "colab": {
          "base_uri": "https://localhost:8080/"
        },
        "id": "1AyG39Oic-aW",
        "outputId": "62c27eeb-ab63-4eb8-f01c-29acfe2bf2e3"
      },
      "execution_count": null,
      "outputs": [
        {
          "output_type": "stream",
          "name": "stdout",
          "text": [
            "'data.frame':\t600 obs. of  14 variables:\n",
            " $ C   : int  0 0 0 0 0 0 0 0 0 0 ...\n",
            " $ ID  : int  1 1 1 1 1 1 1 1 1 1 ...\n",
            " $ DV  : num  0 6.99 12.66 5.31 2.39 ...\n",
            " $ AMT : int  900 0 0 0 0 0 0 0 0 0 ...\n",
            " $ II  : int  12 0 0 0 0 0 0 0 0 0 ...\n",
            " $ ADDL: int  9 0 0 0 0 0 0 0 0 0 ...\n",
            " $ TIME: num  0 1.5 3 8 11.9 ...\n",
            " $ RATE: int  300 0 0 0 0 0 0 0 0 0 ...\n",
            " $ HT  : int  103 103 103 103 103 103 103 103 103 103 ...\n",
            " $ WT  : chr  \"91\" \"91\" \"91\" \"91\" ...\n",
            " $ CLCR: num  101 101 101 101 101 ...\n",
            " $ SEX : int  0 0 0 0 0 0 0 0 0 0 ...\n",
            " $ AGE : int  46 46 46 46 46 46 46 46 46 46 ...\n",
            " $ DAY : int  1 1 1 1 1 1 2 2 2 2 ...\n"
          ]
        }
      ]
    },
    {
      "cell_type": "code",
      "source": [
        "#make DAY a factor\n",
        "data5$DAY<- factor(data5$DAY)"
      ],
      "metadata": {
        "id": "11k4aAXQdUt2"
      },
      "execution_count": 4,
      "outputs": []
    },
    {
      "cell_type": "code",
      "source": [
        "#confirm\n",
        "str(data5)\n",
        "unique(data5$DAY)"
      ],
      "metadata": {
        "colab": {
          "base_uri": "https://localhost:8080/",
          "height": 326
        },
        "id": "3odhXZ8xfHYQ",
        "outputId": "6c9757d0-a64e-4a84-a3c7-dd582fd01b65"
      },
      "execution_count": 5,
      "outputs": [
        {
          "output_type": "stream",
          "name": "stdout",
          "text": [
            "'data.frame':\t600 obs. of  14 variables:\n",
            " $ C   : int  0 0 0 0 0 0 0 0 0 0 ...\n",
            " $ ID  : int  1 1 1 1 1 1 1 1 1 1 ...\n",
            " $ DV  : num  0 6.99 12.66 5.31 2.39 ...\n",
            " $ AMT : int  900 0 0 0 0 0 0 0 0 0 ...\n",
            " $ II  : int  12 0 0 0 0 0 0 0 0 0 ...\n",
            " $ ADDL: int  9 0 0 0 0 0 0 0 0 0 ...\n",
            " $ TIME: num  0 1.5 3 8 11.9 ...\n",
            " $ RATE: int  300 0 0 0 0 0 0 0 0 0 ...\n",
            " $ HT  : int  103 103 103 103 103 103 103 103 103 103 ...\n",
            " $ WT  : chr  \"91\" \"91\" \"91\" \"91\" ...\n",
            " $ CLCR: num  101 101 101 101 101 ...\n",
            " $ SEX : int  0 0 0 0 0 0 0 0 0 0 ...\n",
            " $ AGE : int  46 46 46 46 46 46 46 46 46 46 ...\n",
            " $ DAY : Factor w/ 2 levels \"1\",\"2\": 1 1 1 1 1 1 2 2 2 2 ...\n"
          ]
        },
        {
          "output_type": "display_data",
          "data": {
            "text/html": [
              "<style>\n",
              ".list-inline {list-style: none; margin:0; padding: 0}\n",
              ".list-inline>li {display: inline-block}\n",
              ".list-inline>li:not(:last-child)::after {content: \"\\00b7\"; padding: 0 .5ex}\n",
              "</style>\n",
              "<ol class=list-inline><li>1</li><li>2</li></ol>\n",
              "\n",
              "<details>\n",
              "\t<summary style=display:list-item;cursor:pointer>\n",
              "\t\t<strong>Levels</strong>:\n",
              "\t</summary>\n",
              "\t<style>\n",
              "\t.list-inline {list-style: none; margin:0; padding: 0}\n",
              "\t.list-inline>li {display: inline-block}\n",
              "\t.list-inline>li:not(:last-child)::after {content: \"\\00b7\"; padding: 0 .5ex}\n",
              "\t</style>\n",
              "\t<ol class=list-inline><li>'1'</li><li>'2'</li></ol>\n",
              "</details>"
            ],
            "text/markdown": "1. 1\n2. 2\n\n\n\n**Levels**: 1. '1'\n2. '2'\n\n\n",
            "text/latex": "\\begin{enumerate*}\n\\item 1\n\\item 2\n\\end{enumerate*}\n\n\\emph{Levels}: \\begin{enumerate*}\n\\item '1'\n\\item '2'\n\\end{enumerate*}\n",
            "text/plain": [
              "[1] 1 2\n",
              "Levels: 1 2"
            ]
          },
          "metadata": {}
        }
      ]
    },
    {
      "cell_type": "code",
      "source": [
        "#choose the best apply function to use\n",
        "#aggregate.data.frame is my choice because it allows subsetting like tapply but allows and returns a dataframe\n",
        "args(aggregate.data.frame)"
      ],
      "metadata": {
        "colab": {
          "base_uri": "https://localhost:8080/",
          "height": 52
        },
        "id": "Ysc7zhpQgI8U",
        "outputId": "ea1f2f17-9c16-45b4-d785-ed4494fb373b"
      },
      "execution_count": null,
      "outputs": [
        {
          "output_type": "display_data",
          "data": {
            "text/html": [
              "<pre class=language-r><code>function (x, by, FUN, ..., simplify = TRUE, drop = TRUE) \n",
              "NULL</code></pre>"
            ],
            "text/markdown": "```r\nfunction (x, by, FUN, ..., simplify = TRUE, drop = TRUE) \nNULL\n```",
            "text/latex": "\\begin{minted}{r}\nfunction (x, by, FUN, ..., simplify = TRUE, drop = TRUE) \nNULL\n\\end{minted}",
            "text/plain": [
              "function (x, by, FUN, ..., simplify = TRUE, drop = TRUE) \n",
              "NULL"
            ]
          },
          "metadata": {}
        }
      ]
    },
    {
      "cell_type": "code",
      "source": [
        "#create a new dataframe containing the average\n",
        "#DV and CLCR by DAY.\n",
        "aggregate.data.frame(data5[, c('DV', 'CLCR')], by = list(data5[,'DAY']), FUN = mean, simplify= F, drop= F)"
      ],
      "metadata": {
        "colab": {
          "base_uri": "https://localhost:8080/",
          "height": 161
        },
        "id": "rzeG_jzxiRVx",
        "outputId": "fc5cb249-8e56-40ab-e352-947dc9e2ac3a"
      },
      "execution_count": null,
      "outputs": [
        {
          "output_type": "display_data",
          "data": {
            "text/html": [
              "<table class=\"dataframe\">\n",
              "<caption>A data.frame: 2 × 3</caption>\n",
              "<thead>\n",
              "\t<tr><th scope=col>Group.1</th><th scope=col>DV</th><th scope=col>CLCR</th></tr>\n",
              "\t<tr><th scope=col>&lt;fct&gt;</th><th scope=col>&lt;list&gt;</th><th scope=col>&lt;list&gt;</th></tr>\n",
              "</thead>\n",
              "<tbody>\n",
              "\t<tr><td>1</td><td>3.844042</td><td>66.54375</td></tr>\n",
              "\t<tr><td>2</td><td>4.568472</td><td>46.54375</td></tr>\n",
              "</tbody>\n",
              "</table>\n"
            ],
            "text/markdown": "\nA data.frame: 2 × 3\n\n| Group.1 &lt;fct&gt; | DV &lt;list&gt; | CLCR &lt;list&gt; |\n|---|---|---|\n| 1 | 3.844042 | 66.54375 |\n| 2 | 4.568472 | 46.54375 |\n\n",
            "text/latex": "A data.frame: 2 × 3\n\\begin{tabular}{lll}\n Group.1 & DV & CLCR\\\\\n <fct> & <list> & <list>\\\\\n\\hline\n\t 1 & 3.844042 & 66.54375\\\\\n\t 2 & 4.568472 & 46.54375\\\\\n\\end{tabular}\n",
            "text/plain": [
              "  Group.1 DV       CLCR    \n",
              "1 1       3.844042 66.54375\n",
              "2 2       4.568472 46.54375"
            ]
          },
          "metadata": {}
        }
      ]
    },
    {
      "cell_type": "code",
      "source": [
        "newdf<- aggregate.data.frame(data5[, c('DV', 'CLCR')], by = list(data5[,'DAY']), FUN = mean, simplify= F, drop= F)\n"
      ],
      "metadata": {
        "id": "HB7gcvVKjX8s"
      },
      "execution_count": 6,
      "outputs": []
    },
    {
      "cell_type": "code",
      "source": [
        "# problem 4:Using the same data5.csv data set calculate the median and maximum WT by DAY.\n",
        "#Be careful, there are missing values (NA’s) in the WT variable. How can we deal with\n",
        "#these?"
      ],
      "metadata": {
        "id": "hG5DtVEKlrph"
      },
      "execution_count": null,
      "outputs": []
    },
    {
      "cell_type": "code",
      "source": [
        "summary(data5$WT)"
      ],
      "metadata": {
        "colab": {
          "base_uri": "https://localhost:8080/",
          "height": 54
        },
        "id": "NDSr43dnpvvj",
        "outputId": "a9230c4d-07c2-42bf-cc7b-902e3d68a19a"
      },
      "execution_count": null,
      "outputs": [
        {
          "output_type": "display_data",
          "data": {
            "text/plain": [
              "   Length     Class      Mode \n",
              "      600 character character "
            ]
          },
          "metadata": {}
        }
      ]
    },
    {
      "cell_type": "code",
      "source": [
        "table(data5$WT)"
      ],
      "metadata": {
        "id": "VQsMoQJdqwUj",
        "colab": {
          "base_uri": "https://localhost:8080/",
          "height": 145
        },
        "outputId": "a0e010f2-e140-4d17-fc84-100eefb8d963"
      },
      "execution_count": 3,
      "outputs": [
        {
          "output_type": "display_data",
          "data": {
            "text/plain": [
              "\n",
              "  . 101 106  34  39  40  41  43  44  45  47  49  50  51  53  54  55  56  57  59 \n",
              "  6   7   9   6   6   6   6   6   9   6   6  27   9  21  15   6  15   6  32  38 \n",
              " 60  61  62  63  64  65  66  67  69  70  71  72  74  75  76  77  78  80  81  84 \n",
              "  6  18   6   9  15  14  14  48  18  15  12   9  21  15   9  18   6   9  18  30 \n",
              " 85  88  91  94  96 \n",
              "  9   9   6  18   6 "
            ]
          },
          "metadata": {}
        }
      ]
    },
    {
      "cell_type": "code",
      "source": [
        "unique(data5$WT)"
      ],
      "metadata": {
        "colab": {
          "base_uri": "https://localhost:8080/",
          "height": 52
        },
        "id": "ZxKCLqi6I1rQ",
        "outputId": "7329cfbe-3bb4-4ed6-f0c4-7e65e8a9e863"
      },
      "execution_count": 8,
      "outputs": [
        {
          "output_type": "display_data",
          "data": {
            "text/html": [
              "<style>\n",
              ".list-inline {list-style: none; margin:0; padding: 0}\n",
              ".list-inline>li {display: inline-block}\n",
              ".list-inline>li:not(:last-child)::after {content: \"\\00b7\"; padding: 0 .5ex}\n",
              "</style>\n",
              "<ol class=list-inline><li>'91'</li><li>'.'</li><li>'101'</li><li>'47'</li><li>'57'</li><li>'56'</li><li>'66'</li><li>'67'</li><li>'76'</li><li>'74'</li><li>'84'</li><li>'71'</li><li>'81'</li><li>'49'</li><li>'59'</li><li>'45'</li><li>'55'</li><li>'94'</li><li>'65'</li><li>'75'</li><li>'39'</li><li>'85'</li><li>'54'</li><li>'64'</li><li>'41'</li><li>'51'</li><li>'62'</li><li>'72'</li><li>'34'</li><li>'44'</li><li>'69'</li><li>'77'</li><li>'96'</li><li>'106'</li><li>'60'</li><li>'70'</li><li>'61'</li><li>'40'</li><li>'50'</li><li>'43'</li><li>'53'</li><li>'80'</li><li>'63'</li><li>'78'</li><li>'88'</li></ol>\n"
            ],
            "text/markdown": "1. '91'\n2. '.'\n3. '101'\n4. '47'\n5. '57'\n6. '56'\n7. '66'\n8. '67'\n9. '76'\n10. '74'\n11. '84'\n12. '71'\n13. '81'\n14. '49'\n15. '59'\n16. '45'\n17. '55'\n18. '94'\n19. '65'\n20. '75'\n21. '39'\n22. '85'\n23. '54'\n24. '64'\n25. '41'\n26. '51'\n27. '62'\n28. '72'\n29. '34'\n30. '44'\n31. '69'\n32. '77'\n33. '96'\n34. '106'\n35. '60'\n36. '70'\n37. '61'\n38. '40'\n39. '50'\n40. '43'\n41. '53'\n42. '80'\n43. '63'\n44. '78'\n45. '88'\n\n\n",
            "text/latex": "\\begin{enumerate*}\n\\item '91'\n\\item '.'\n\\item '101'\n\\item '47'\n\\item '57'\n\\item '56'\n\\item '66'\n\\item '67'\n\\item '76'\n\\item '74'\n\\item '84'\n\\item '71'\n\\item '81'\n\\item '49'\n\\item '59'\n\\item '45'\n\\item '55'\n\\item '94'\n\\item '65'\n\\item '75'\n\\item '39'\n\\item '85'\n\\item '54'\n\\item '64'\n\\item '41'\n\\item '51'\n\\item '62'\n\\item '72'\n\\item '34'\n\\item '44'\n\\item '69'\n\\item '77'\n\\item '96'\n\\item '106'\n\\item '60'\n\\item '70'\n\\item '61'\n\\item '40'\n\\item '50'\n\\item '43'\n\\item '53'\n\\item '80'\n\\item '63'\n\\item '78'\n\\item '88'\n\\end{enumerate*}\n",
            "text/plain": [
              " [1] \"91\"  \".\"   \"101\" \"47\"  \"57\"  \"56\"  \"66\"  \"67\"  \"76\"  \"74\"  \"84\"  \"71\" \n",
              "[13] \"81\"  \"49\"  \"59\"  \"45\"  \"55\"  \"94\"  \"65\"  \"75\"  \"39\"  \"85\"  \"54\"  \"64\" \n",
              "[25] \"41\"  \"51\"  \"62\"  \"72\"  \"34\"  \"44\"  \"69\"  \"77\"  \"96\"  \"106\" \"60\"  \"70\" \n",
              "[37] \"61\"  \"40\"  \"50\"  \"43\"  \"53\"  \"80\"  \"63\"  \"78\"  \"88\" "
            ]
          },
          "metadata": {}
        }
      ]
    },
    {
      "cell_type": "code",
      "source": [
        "#convert weight from a character variable to an integer\n",
        "data5$WT<- as.integer(data5$WT)\n"
      ],
      "metadata": {
        "id": "HmFk00__JC6S"
      },
      "execution_count": 11,
      "outputs": []
    },
    {
      "cell_type": "code",
      "source": [
        "summary(data5$WT)"
      ],
      "metadata": {
        "colab": {
          "base_uri": "https://localhost:8080/",
          "height": 54
        },
        "id": "BV1yCtNgJ0bB",
        "outputId": "fbff29eb-bd95-46c1-b459-faed61d89321"
      },
      "execution_count": 12,
      "outputs": [
        {
          "output_type": "display_data",
          "data": {
            "text/plain": [
              "   Min. 1st Qu.  Median    Mean 3rd Qu.    Max.    NA's \n",
              "  34.00   56.00   66.00   66.44   76.00  106.00       6 "
            ]
          },
          "metadata": {}
        }
      ]
    },
    {
      "cell_type": "code",
      "source": [
        "#calculate the median and maximum WT by DAY\n",
        "#remove NAs( missing values) using na.rm= TRUE"
      ],
      "metadata": {
        "id": "BHE0oKvqJ7mw"
      },
      "execution_count": null,
      "outputs": []
    },
    {
      "cell_type": "code",
      "source": [
        "#calculate the median by DAY\n",
        "tapply(data5$WT, data5$DAY, median, na.rm= T, simplify= F)\n"
      ],
      "metadata": {
        "colab": {
          "base_uri": "https://localhost:8080/",
          "height": 114
        },
        "id": "ESjoIbWZLq41",
        "outputId": "83248098-acd0-492e-a122-8cf6706d8063"
      },
      "execution_count": 22,
      "outputs": [
        {
          "output_type": "display_data",
          "data": {
            "text/html": [
              "<dl>\n",
              "\t<dt>$`1`</dt>\n",
              "\t\t<dd>57</dd>\n",
              "\t<dt>$`2`</dt>\n",
              "\t\t<dd>69</dd>\n",
              "</dl>\n"
            ],
            "text/markdown": "$`1`\n:   57\n$`2`\n:   69\n\n\n",
            "text/latex": "\\begin{description}\n\\item[\\$`1`] 57\n\\item[\\$`2`] 69\n\\end{description}\n",
            "text/plain": [
              "$`1`\n",
              "[1] 57\n",
              "\n",
              "$`2`\n",
              "[1] 69\n"
            ]
          },
          "metadata": {}
        }
      ]
    },
    {
      "cell_type": "code",
      "source": [
        "##calculate the maximum WT by DAY\n",
        "tapply(data5$WT, data5$DAY, max, na.rm= T, simplify=F)"
      ],
      "metadata": {
        "colab": {
          "base_uri": "https://localhost:8080/",
          "height": 114
        },
        "id": "pj9R7CULMp1m",
        "outputId": "f43347a3-4682-4cbc-e7fe-d336a430187b"
      },
      "execution_count": 25,
      "outputs": [
        {
          "output_type": "display_data",
          "data": {
            "text/html": [
              "<dl>\n",
              "\t<dt>$`1`</dt>\n",
              "\t\t<dd>96</dd>\n",
              "\t<dt>$`2`</dt>\n",
              "\t\t<dd>106</dd>\n",
              "</dl>\n"
            ],
            "text/markdown": "$`1`\n:   96\n$`2`\n:   106\n\n\n",
            "text/latex": "\\begin{description}\n\\item[\\$`1`] 96\n\\item[\\$`2`] 106\n\\end{description}\n",
            "text/plain": [
              "$`1`\n",
              "[1] 96\n",
              "\n",
              "$`2`\n",
              "[1] 106\n"
            ]
          },
          "metadata": {}
        }
      ]
    },
    {
      "cell_type": "code",
      "source": [
        "#problem 5: In many of the examples in this chapter, we used the duplicated function with\n",
        "#the logical ! operator to limit prob1 to one row per individual prior to performing\n",
        "#data summaries. Generate a logical vector that could be used to subset prob1 to\n",
        "#one line per individual and determine minimum and maximum CRCL in this subset of\n",
        "#prob1."
      ],
      "metadata": {
        "id": "7pP53IE2NYov"
      },
      "execution_count": null,
      "outputs": []
    },
    {
      "cell_type": "code",
      "source": [
        "#import prob1 dataset\n",
        "prob1<- read.table('prob1.tab', header= T, skip= 0, stringsAsFactors = T )"
      ],
      "metadata": {
        "id": "eLdJl1QHN-Rg"
      },
      "execution_count": 26,
      "outputs": []
    },
    {
      "cell_type": "code",
      "source": [
        "head(prob1)"
      ],
      "metadata": {
        "colab": {
          "base_uri": "https://localhost:8080/",
          "height": 286
        },
        "id": "UY7TKVKDP2Ll",
        "outputId": "f60a6846-015d-4cfb-8cfa-a5aabb3a32e2"
      },
      "execution_count": 27,
      "outputs": [
        {
          "output_type": "display_data",
          "data": {
            "text/html": [
              "<table class=\"dataframe\">\n",
              "<caption>A data.frame: 6 × 13</caption>\n",
              "<thead>\n",
              "\t<tr><th></th><th scope=col>C</th><th scope=col>ID</th><th scope=col>DV</th><th scope=col>AMT</th><th scope=col>II</th><th scope=col>ADDL</th><th scope=col>TIME</th><th scope=col>RATE</th><th scope=col>HT</th><th scope=col>WT</th><th scope=col>CLCR</th><th scope=col>SEX</th><th scope=col>AGE</th></tr>\n",
              "\t<tr><th></th><th scope=col>&lt;int&gt;</th><th scope=col>&lt;int&gt;</th><th scope=col>&lt;dbl&gt;</th><th scope=col>&lt;int&gt;</th><th scope=col>&lt;int&gt;</th><th scope=col>&lt;int&gt;</th><th scope=col>&lt;dbl&gt;</th><th scope=col>&lt;int&gt;</th><th scope=col>&lt;int&gt;</th><th scope=col>&lt;int&gt;</th><th scope=col>&lt;dbl&gt;</th><th scope=col>&lt;int&gt;</th><th scope=col>&lt;int&gt;</th></tr>\n",
              "</thead>\n",
              "<tbody>\n",
              "\t<tr><th scope=row>1</th><td>0</td><td>1</td><td> 0.00</td><td>900</td><td>12</td><td>9</td><td> 0.0</td><td>300</td><td>103</td><td>91</td><td>101.48</td><td>0</td><td>46</td></tr>\n",
              "\t<tr><th scope=row>2</th><td>0</td><td>1</td><td> 6.99</td><td>  0</td><td> 0</td><td>0</td><td> 1.5</td><td>  0</td><td>103</td><td>91</td><td>101.48</td><td>0</td><td>46</td></tr>\n",
              "\t<tr><th scope=row>3</th><td>0</td><td>1</td><td>12.66</td><td>  0</td><td> 0</td><td>0</td><td> 3.0</td><td>  0</td><td>103</td><td>91</td><td>101.48</td><td>0</td><td>46</td></tr>\n",
              "\t<tr><th scope=row>4</th><td>0</td><td>1</td><td> 5.31</td><td>  0</td><td> 0</td><td>0</td><td> 8.0</td><td>  0</td><td>103</td><td>91</td><td>101.48</td><td>0</td><td>46</td></tr>\n",
              "\t<tr><th scope=row>5</th><td>0</td><td>1</td><td> 2.39</td><td>  0</td><td> 0</td><td>0</td><td>11.9</td><td>  0</td><td>103</td><td>91</td><td>101.48</td><td>0</td><td>46</td></tr>\n",
              "\t<tr><th scope=row>6</th><td>0</td><td>1</td><td> 2.87</td><td>  0</td><td> 0</td><td>0</td><td>23.9</td><td>  0</td><td>103</td><td>91</td><td>101.48</td><td>0</td><td>46</td></tr>\n",
              "</tbody>\n",
              "</table>\n"
            ],
            "text/markdown": "\nA data.frame: 6 × 13\n\n| <!--/--> | C &lt;int&gt; | ID &lt;int&gt; | DV &lt;dbl&gt; | AMT &lt;int&gt; | II &lt;int&gt; | ADDL &lt;int&gt; | TIME &lt;dbl&gt; | RATE &lt;int&gt; | HT &lt;int&gt; | WT &lt;int&gt; | CLCR &lt;dbl&gt; | SEX &lt;int&gt; | AGE &lt;int&gt; |\n|---|---|---|---|---|---|---|---|---|---|---|---|---|---|\n| 1 | 0 | 1 |  0.00 | 900 | 12 | 9 |  0.0 | 300 | 103 | 91 | 101.48 | 0 | 46 |\n| 2 | 0 | 1 |  6.99 |   0 |  0 | 0 |  1.5 |   0 | 103 | 91 | 101.48 | 0 | 46 |\n| 3 | 0 | 1 | 12.66 |   0 |  0 | 0 |  3.0 |   0 | 103 | 91 | 101.48 | 0 | 46 |\n| 4 | 0 | 1 |  5.31 |   0 |  0 | 0 |  8.0 |   0 | 103 | 91 | 101.48 | 0 | 46 |\n| 5 | 0 | 1 |  2.39 |   0 |  0 | 0 | 11.9 |   0 | 103 | 91 | 101.48 | 0 | 46 |\n| 6 | 0 | 1 |  2.87 |   0 |  0 | 0 | 23.9 |   0 | 103 | 91 | 101.48 | 0 | 46 |\n\n",
            "text/latex": "A data.frame: 6 × 13\n\\begin{tabular}{r|lllllllllllll}\n  & C & ID & DV & AMT & II & ADDL & TIME & RATE & HT & WT & CLCR & SEX & AGE\\\\\n  & <int> & <int> & <dbl> & <int> & <int> & <int> & <dbl> & <int> & <int> & <int> & <dbl> & <int> & <int>\\\\\n\\hline\n\t1 & 0 & 1 &  0.00 & 900 & 12 & 9 &  0.0 & 300 & 103 & 91 & 101.48 & 0 & 46\\\\\n\t2 & 0 & 1 &  6.99 &   0 &  0 & 0 &  1.5 &   0 & 103 & 91 & 101.48 & 0 & 46\\\\\n\t3 & 0 & 1 & 12.66 &   0 &  0 & 0 &  3.0 &   0 & 103 & 91 & 101.48 & 0 & 46\\\\\n\t4 & 0 & 1 &  5.31 &   0 &  0 & 0 &  8.0 &   0 & 103 & 91 & 101.48 & 0 & 46\\\\\n\t5 & 0 & 1 &  2.39 &   0 &  0 & 0 & 11.9 &   0 & 103 & 91 & 101.48 & 0 & 46\\\\\n\t6 & 0 & 1 &  2.87 &   0 &  0 & 0 & 23.9 &   0 & 103 & 91 & 101.48 & 0 & 46\\\\\n\\end{tabular}\n",
            "text/plain": [
              "  C ID DV    AMT II ADDL TIME RATE HT  WT CLCR   SEX AGE\n",
              "1 0 1   0.00 900 12 9     0.0 300  103 91 101.48 0   46 \n",
              "2 0 1   6.99   0  0 0     1.5   0  103 91 101.48 0   46 \n",
              "3 0 1  12.66   0  0 0     3.0   0  103 91 101.48 0   46 \n",
              "4 0 1   5.31   0  0 0     8.0   0  103 91 101.48 0   46 \n",
              "5 0 1   2.39   0  0 0    11.9   0  103 91 101.48 0   46 \n",
              "6 0 1   2.87   0  0 0    23.9   0  103 91 101.48 0   46 "
            ]
          },
          "metadata": {}
        }
      ]
    },
    {
      "cell_type": "code",
      "source": [
        "str(prob1)"
      ],
      "metadata": {
        "colab": {
          "base_uri": "https://localhost:8080/"
        },
        "id": "h6vIjPLkP-ya",
        "outputId": "3469097b-92d7-4623-9203-f63abffb619f"
      },
      "execution_count": 29,
      "outputs": [
        {
          "output_type": "stream",
          "name": "stdout",
          "text": [
            "'data.frame':\t600 obs. of  13 variables:\n",
            " $ C   : int  0 0 0 0 0 0 0 0 0 0 ...\n",
            " $ ID  : int  1 1 1 1 1 1 1 1 1 1 ...\n",
            " $ DV  : num  0 6.99 12.66 5.31 2.39 ...\n",
            " $ AMT : int  900 0 0 0 0 0 0 0 0 0 ...\n",
            " $ II  : int  12 0 0 0 0 0 0 0 0 0 ...\n",
            " $ ADDL: int  9 0 0 0 0 0 0 0 0 0 ...\n",
            " $ TIME: num  0 1.5 3 8 11.9 ...\n",
            " $ RATE: int  300 0 0 0 0 0 0 0 0 0 ...\n",
            " $ HT  : int  103 103 103 103 103 103 103 103 103 103 ...\n",
            " $ WT  : int  91 91 91 91 91 91 91 91 91 91 ...\n",
            " $ CLCR: num  101 101 101 101 101 ...\n",
            " $ SEX : int  0 0 0 0 0 0 0 0 0 0 ...\n",
            " $ AGE : int  46 46 46 46 46 46 46 46 46 46 ...\n"
          ]
        }
      ]
    },
    {
      "cell_type": "code",
      "source": [
        "#filter dataset by unique IDs\n",
        "newprob1<- prob1[!duplicated(prob1$ID), ]\n",
        "newprob1"
      ],
      "metadata": {
        "colab": {
          "base_uri": "https://localhost:8080/",
          "height": 1000
        },
        "id": "6xtcuoyEQNAq",
        "outputId": "52306a97-c53d-4c97-8307-aeb6022e058e"
      },
      "execution_count": 30,
      "outputs": [
        {
          "output_type": "display_data",
          "data": {
            "text/html": [
              "<table class=\"dataframe\">\n",
              "<caption>A data.frame: 40 × 13</caption>\n",
              "<thead>\n",
              "\t<tr><th></th><th scope=col>C</th><th scope=col>ID</th><th scope=col>DV</th><th scope=col>AMT</th><th scope=col>II</th><th scope=col>ADDL</th><th scope=col>TIME</th><th scope=col>RATE</th><th scope=col>HT</th><th scope=col>WT</th><th scope=col>CLCR</th><th scope=col>SEX</th><th scope=col>AGE</th></tr>\n",
              "\t<tr><th></th><th scope=col>&lt;int&gt;</th><th scope=col>&lt;int&gt;</th><th scope=col>&lt;dbl&gt;</th><th scope=col>&lt;int&gt;</th><th scope=col>&lt;int&gt;</th><th scope=col>&lt;int&gt;</th><th scope=col>&lt;dbl&gt;</th><th scope=col>&lt;int&gt;</th><th scope=col>&lt;int&gt;</th><th scope=col>&lt;int&gt;</th><th scope=col>&lt;dbl&gt;</th><th scope=col>&lt;int&gt;</th><th scope=col>&lt;int&gt;</th></tr>\n",
              "</thead>\n",
              "<tbody>\n",
              "\t<tr><th scope=row>1</th><td>0</td><td> 1</td><td>0</td><td>900</td><td>12</td><td>9</td><td>0</td><td>300</td><td>103</td><td>91</td><td>101.48</td><td>0</td><td>46</td></tr>\n",
              "\t<tr><th scope=row>16</th><td>0</td><td> 2</td><td>0</td><td>900</td><td>12</td><td>9</td><td>0</td><td>300</td><td> 53</td><td>47</td><td> 52.84</td><td>0</td><td>44</td></tr>\n",
              "\t<tr><th scope=row>31</th><td>0</td><td> 3</td><td>0</td><td>900</td><td>12</td><td>9</td><td>0</td><td>300</td><td> 69</td><td>56</td><td> 63.78</td><td>1</td><td>41</td></tr>\n",
              "\t<tr><th scope=row>46</th><td>0</td><td> 4</td><td>0</td><td>900</td><td>12</td><td>9</td><td>0</td><td>300</td><td> 67</td><td>57</td><td> 46.16</td><td>0</td><td>48</td></tr>\n",
              "\t<tr><th scope=row>61</th><td>0</td><td> 5</td><td>0</td><td>900</td><td>12</td><td>9</td><td>0</td><td>300</td><td> 76</td><td>66</td><td> 70.34</td><td>0</td><td>51</td></tr>\n",
              "\t<tr><th scope=row>76</th><td>0</td><td> 6</td><td>0</td><td>900</td><td>12</td><td>9</td><td>0</td><td>300</td><td> 89</td><td>74</td><td> 56.59</td><td>0</td><td>47</td></tr>\n",
              "\t<tr><th scope=row>91</th><td>0</td><td> 7</td><td>0</td><td>900</td><td>12</td><td>9</td><td>0</td><td>300</td><td>108</td><td>71</td><td> 68.17</td><td>0</td><td>43</td></tr>\n",
              "\t<tr><th scope=row>106</th><td>0</td><td> 8</td><td>0</td><td>900</td><td>12</td><td>9</td><td>0</td><td>300</td><td> 60</td><td>49</td><td> 44.12</td><td>1</td><td>45</td></tr>\n",
              "\t<tr><th scope=row>121</th><td>0</td><td> 9</td><td>0</td><td>900</td><td>12</td><td>9</td><td>0</td><td>300</td><td> 43</td><td>45</td><td> 38.34</td><td>1</td><td>47</td></tr>\n",
              "\t<tr><th scope=row>136</th><td>0</td><td>10</td><td>0</td><td>900</td><td>12</td><td>9</td><td>0</td><td>300</td><td> 77</td><td>84</td><td>192.38</td><td>0</td><td>47</td></tr>\n",
              "\t<tr><th scope=row>151</th><td>0</td><td>11</td><td>0</td><td>900</td><td>12</td><td>9</td><td>0</td><td>300</td><td> 79</td><td>65</td><td> 56.18</td><td>1</td><td>48</td></tr>\n",
              "\t<tr><th scope=row>166</th><td>0</td><td>12</td><td>0</td><td>900</td><td>12</td><td>9</td><td>0</td><td>300</td><td> 69</td><td>57</td><td> 47.30</td><td>1</td><td>45</td></tr>\n",
              "\t<tr><th scope=row>181</th><td>0</td><td>13</td><td>0</td><td>900</td><td>12</td><td>9</td><td>0</td><td>300</td><td> 61</td><td>39</td><td> 38.53</td><td>1</td><td>48</td></tr>\n",
              "\t<tr><th scope=row>196</th><td>0</td><td>14</td><td>0</td><td>900</td><td>12</td><td>9</td><td>0</td><td>300</td><td> 67</td><td>75</td><td> 80.83</td><td>0</td><td>46</td></tr>\n",
              "\t<tr><th scope=row>211</th><td>0</td><td>15</td><td>0</td><td>900</td><td>12</td><td>9</td><td>0</td><td>300</td><td> 69</td><td>49</td><td> 57.22</td><td>1</td><td>50</td></tr>\n",
              "\t<tr><th scope=row>226</th><td>0</td><td>16</td><td>0</td><td>900</td><td>12</td><td>9</td><td>0</td><td>300</td><td> 98</td><td>84</td><td>110.15</td><td>0</td><td>44</td></tr>\n",
              "\t<tr><th scope=row>241</th><td>0</td><td>17</td><td>0</td><td>900</td><td>12</td><td>9</td><td>0</td><td>300</td><td> 66</td><td>54</td><td> 47.10</td><td>1</td><td>51</td></tr>\n",
              "\t<tr><th scope=row>256</th><td>0</td><td>18</td><td>0</td><td>900</td><td>12</td><td>9</td><td>0</td><td>300</td><td> 47</td><td>41</td><td> 38.60</td><td>1</td><td>38</td></tr>\n",
              "\t<tr><th scope=row>271</th><td>0</td><td>19</td><td>0</td><td>900</td><td>12</td><td>9</td><td>0</td><td>300</td><td> 51</td><td>62</td><td> 65.08</td><td>0</td><td>47</td></tr>\n",
              "\t<tr><th scope=row>286</th><td>0</td><td>20</td><td>0</td><td>900</td><td>12</td><td>9</td><td>0</td><td>300</td><td> 55</td><td>34</td><td> 24.58</td><td>1</td><td>48</td></tr>\n",
              "\t<tr><th scope=row>301</th><td>0</td><td>21</td><td>0</td><td>900</td><td>12</td><td>9</td><td>0</td><td>300</td><td> 57</td><td>59</td><td> 60.65</td><td>0</td><td>45</td></tr>\n",
              "\t<tr><th scope=row>316</th><td>0</td><td>22</td><td>0</td><td>900</td><td>12</td><td>9</td><td>0</td><td>300</td><td> 76</td><td>67</td><td> 64.10</td><td>0</td><td>47</td></tr>\n",
              "\t<tr><th scope=row>331</th><td>0</td><td>23</td><td>0</td><td>900</td><td>12</td><td>9</td><td>0</td><td>300</td><td> 86</td><td>96</td><td>135.65</td><td>0</td><td>45</td></tr>\n",
              "\t<tr><th scope=row>346</th><td>0</td><td>24</td><td>0</td><td>900</td><td>12</td><td>9</td><td>0</td><td>300</td><td> 55</td><td>55</td><td> 47.84</td><td>0</td><td>44</td></tr>\n",
              "\t<tr><th scope=row>361</th><td>0</td><td>25</td><td>0</td><td>900</td><td>12</td><td>9</td><td>0</td><td>300</td><td> 63</td><td>57</td><td> 61.69</td><td>1</td><td>49</td></tr>\n",
              "\t<tr><th scope=row>376</th><td>0</td><td>26</td><td>0</td><td>900</td><td>12</td><td>9</td><td>0</td><td>300</td><td> 82</td><td>60</td><td> 49.90</td><td>0</td><td>45</td></tr>\n",
              "\t<tr><th scope=row>391</th><td>0</td><td>27</td><td>0</td><td>900</td><td>12</td><td>9</td><td>0</td><td>300</td><td> 55</td><td>51</td><td> 50.26</td><td>1</td><td>44</td></tr>\n",
              "\t<tr><th scope=row>406</th><td>0</td><td>28</td><td>0</td><td>900</td><td>12</td><td>9</td><td>0</td><td>300</td><td> 73</td><td>74</td><td> 68.44</td><td>0</td><td>45</td></tr>\n",
              "\t<tr><th scope=row>421</th><td>0</td><td>29</td><td>0</td><td>900</td><td>12</td><td>9</td><td>0</td><td>300</td><td> 79</td><td>59</td><td> 77.82</td><td>0</td><td>48</td></tr>\n",
              "\t<tr><th scope=row>436</th><td>0</td><td>30</td><td>0</td><td>900</td><td>12</td><td>9</td><td>0</td><td>300</td><td> 41</td><td>40</td><td> 47.91</td><td>1</td><td>44</td></tr>\n",
              "\t<tr><th scope=row>451</th><td>0</td><td>31</td><td>0</td><td>900</td><td>12</td><td>9</td><td>0</td><td>300</td><td> 65</td><td>49</td><td> 40.89</td><td>1</td><td>45</td></tr>\n",
              "\t<tr><th scope=row>466</th><td>0</td><td>32</td><td>0</td><td>900</td><td>12</td><td>9</td><td>0</td><td>300</td><td> 55</td><td>43</td><td> 34.28</td><td>1</td><td>46</td></tr>\n",
              "\t<tr><th scope=row>481</th><td>0</td><td>33</td><td>0</td><td>900</td><td>12</td><td>9</td><td>0</td><td>300</td><td> 74</td><td>64</td><td> 74.07</td><td>0</td><td>42</td></tr>\n",
              "\t<tr><th scope=row>496</th><td>0</td><td>34</td><td>0</td><td>900</td><td>12</td><td>9</td><td>0</td><td>300</td><td> 64</td><td>70</td><td> 92.77</td><td>0</td><td>47</td></tr>\n",
              "\t<tr><th scope=row>511</th><td>0</td><td>35</td><td>0</td><td>900</td><td>12</td><td>9</td><td>0</td><td>300</td><td> 81</td><td>67</td><td> 62.11</td><td>0</td><td>42</td></tr>\n",
              "\t<tr><th scope=row>526</th><td>0</td><td>36</td><td>0</td><td>900</td><td>12</td><td>9</td><td>0</td><td>300</td><td> 92</td><td>53</td><td> 50.22</td><td>1</td><td>47</td></tr>\n",
              "\t<tr><th scope=row>541</th><td>0</td><td>37</td><td>0</td><td>900</td><td>12</td><td>9</td><td>0</td><td>300</td><td> 95</td><td>78</td><td>124.74</td><td>0</td><td>43</td></tr>\n",
              "\t<tr><th scope=row>556</th><td>0</td><td>38</td><td>0</td><td>900</td><td>12</td><td>9</td><td>0</td><td>300</td><td> 76</td><td>51</td><td> 54.69</td><td>1</td><td>42</td></tr>\n",
              "\t<tr><th scope=row>571</th><td>0</td><td>39</td><td>0</td><td>900</td><td>12</td><td>9</td><td>0</td><td>300</td><td> 69</td><td>57</td><td> 72.49</td><td>0</td><td>44</td></tr>\n",
              "\t<tr><th scope=row>586</th><td>0</td><td>40</td><td>0</td><td>900</td><td>12</td><td>9</td><td>0</td><td>300</td><td> 68</td><td>71</td><td> 91.46</td><td>0</td><td>48</td></tr>\n",
              "</tbody>\n",
              "</table>\n"
            ],
            "text/markdown": "\nA data.frame: 40 × 13\n\n| <!--/--> | C &lt;int&gt; | ID &lt;int&gt; | DV &lt;dbl&gt; | AMT &lt;int&gt; | II &lt;int&gt; | ADDL &lt;int&gt; | TIME &lt;dbl&gt; | RATE &lt;int&gt; | HT &lt;int&gt; | WT &lt;int&gt; | CLCR &lt;dbl&gt; | SEX &lt;int&gt; | AGE &lt;int&gt; |\n|---|---|---|---|---|---|---|---|---|---|---|---|---|---|\n| 1 | 0 |  1 | 0 | 900 | 12 | 9 | 0 | 300 | 103 | 91 | 101.48 | 0 | 46 |\n| 16 | 0 |  2 | 0 | 900 | 12 | 9 | 0 | 300 |  53 | 47 |  52.84 | 0 | 44 |\n| 31 | 0 |  3 | 0 | 900 | 12 | 9 | 0 | 300 |  69 | 56 |  63.78 | 1 | 41 |\n| 46 | 0 |  4 | 0 | 900 | 12 | 9 | 0 | 300 |  67 | 57 |  46.16 | 0 | 48 |\n| 61 | 0 |  5 | 0 | 900 | 12 | 9 | 0 | 300 |  76 | 66 |  70.34 | 0 | 51 |\n| 76 | 0 |  6 | 0 | 900 | 12 | 9 | 0 | 300 |  89 | 74 |  56.59 | 0 | 47 |\n| 91 | 0 |  7 | 0 | 900 | 12 | 9 | 0 | 300 | 108 | 71 |  68.17 | 0 | 43 |\n| 106 | 0 |  8 | 0 | 900 | 12 | 9 | 0 | 300 |  60 | 49 |  44.12 | 1 | 45 |\n| 121 | 0 |  9 | 0 | 900 | 12 | 9 | 0 | 300 |  43 | 45 |  38.34 | 1 | 47 |\n| 136 | 0 | 10 | 0 | 900 | 12 | 9 | 0 | 300 |  77 | 84 | 192.38 | 0 | 47 |\n| 151 | 0 | 11 | 0 | 900 | 12 | 9 | 0 | 300 |  79 | 65 |  56.18 | 1 | 48 |\n| 166 | 0 | 12 | 0 | 900 | 12 | 9 | 0 | 300 |  69 | 57 |  47.30 | 1 | 45 |\n| 181 | 0 | 13 | 0 | 900 | 12 | 9 | 0 | 300 |  61 | 39 |  38.53 | 1 | 48 |\n| 196 | 0 | 14 | 0 | 900 | 12 | 9 | 0 | 300 |  67 | 75 |  80.83 | 0 | 46 |\n| 211 | 0 | 15 | 0 | 900 | 12 | 9 | 0 | 300 |  69 | 49 |  57.22 | 1 | 50 |\n| 226 | 0 | 16 | 0 | 900 | 12 | 9 | 0 | 300 |  98 | 84 | 110.15 | 0 | 44 |\n| 241 | 0 | 17 | 0 | 900 | 12 | 9 | 0 | 300 |  66 | 54 |  47.10 | 1 | 51 |\n| 256 | 0 | 18 | 0 | 900 | 12 | 9 | 0 | 300 |  47 | 41 |  38.60 | 1 | 38 |\n| 271 | 0 | 19 | 0 | 900 | 12 | 9 | 0 | 300 |  51 | 62 |  65.08 | 0 | 47 |\n| 286 | 0 | 20 | 0 | 900 | 12 | 9 | 0 | 300 |  55 | 34 |  24.58 | 1 | 48 |\n| 301 | 0 | 21 | 0 | 900 | 12 | 9 | 0 | 300 |  57 | 59 |  60.65 | 0 | 45 |\n| 316 | 0 | 22 | 0 | 900 | 12 | 9 | 0 | 300 |  76 | 67 |  64.10 | 0 | 47 |\n| 331 | 0 | 23 | 0 | 900 | 12 | 9 | 0 | 300 |  86 | 96 | 135.65 | 0 | 45 |\n| 346 | 0 | 24 | 0 | 900 | 12 | 9 | 0 | 300 |  55 | 55 |  47.84 | 0 | 44 |\n| 361 | 0 | 25 | 0 | 900 | 12 | 9 | 0 | 300 |  63 | 57 |  61.69 | 1 | 49 |\n| 376 | 0 | 26 | 0 | 900 | 12 | 9 | 0 | 300 |  82 | 60 |  49.90 | 0 | 45 |\n| 391 | 0 | 27 | 0 | 900 | 12 | 9 | 0 | 300 |  55 | 51 |  50.26 | 1 | 44 |\n| 406 | 0 | 28 | 0 | 900 | 12 | 9 | 0 | 300 |  73 | 74 |  68.44 | 0 | 45 |\n| 421 | 0 | 29 | 0 | 900 | 12 | 9 | 0 | 300 |  79 | 59 |  77.82 | 0 | 48 |\n| 436 | 0 | 30 | 0 | 900 | 12 | 9 | 0 | 300 |  41 | 40 |  47.91 | 1 | 44 |\n| 451 | 0 | 31 | 0 | 900 | 12 | 9 | 0 | 300 |  65 | 49 |  40.89 | 1 | 45 |\n| 466 | 0 | 32 | 0 | 900 | 12 | 9 | 0 | 300 |  55 | 43 |  34.28 | 1 | 46 |\n| 481 | 0 | 33 | 0 | 900 | 12 | 9 | 0 | 300 |  74 | 64 |  74.07 | 0 | 42 |\n| 496 | 0 | 34 | 0 | 900 | 12 | 9 | 0 | 300 |  64 | 70 |  92.77 | 0 | 47 |\n| 511 | 0 | 35 | 0 | 900 | 12 | 9 | 0 | 300 |  81 | 67 |  62.11 | 0 | 42 |\n| 526 | 0 | 36 | 0 | 900 | 12 | 9 | 0 | 300 |  92 | 53 |  50.22 | 1 | 47 |\n| 541 | 0 | 37 | 0 | 900 | 12 | 9 | 0 | 300 |  95 | 78 | 124.74 | 0 | 43 |\n| 556 | 0 | 38 | 0 | 900 | 12 | 9 | 0 | 300 |  76 | 51 |  54.69 | 1 | 42 |\n| 571 | 0 | 39 | 0 | 900 | 12 | 9 | 0 | 300 |  69 | 57 |  72.49 | 0 | 44 |\n| 586 | 0 | 40 | 0 | 900 | 12 | 9 | 0 | 300 |  68 | 71 |  91.46 | 0 | 48 |\n\n",
            "text/latex": "A data.frame: 40 × 13\n\\begin{tabular}{r|lllllllllllll}\n  & C & ID & DV & AMT & II & ADDL & TIME & RATE & HT & WT & CLCR & SEX & AGE\\\\\n  & <int> & <int> & <dbl> & <int> & <int> & <int> & <dbl> & <int> & <int> & <int> & <dbl> & <int> & <int>\\\\\n\\hline\n\t1 & 0 &  1 & 0 & 900 & 12 & 9 & 0 & 300 & 103 & 91 & 101.48 & 0 & 46\\\\\n\t16 & 0 &  2 & 0 & 900 & 12 & 9 & 0 & 300 &  53 & 47 &  52.84 & 0 & 44\\\\\n\t31 & 0 &  3 & 0 & 900 & 12 & 9 & 0 & 300 &  69 & 56 &  63.78 & 1 & 41\\\\\n\t46 & 0 &  4 & 0 & 900 & 12 & 9 & 0 & 300 &  67 & 57 &  46.16 & 0 & 48\\\\\n\t61 & 0 &  5 & 0 & 900 & 12 & 9 & 0 & 300 &  76 & 66 &  70.34 & 0 & 51\\\\\n\t76 & 0 &  6 & 0 & 900 & 12 & 9 & 0 & 300 &  89 & 74 &  56.59 & 0 & 47\\\\\n\t91 & 0 &  7 & 0 & 900 & 12 & 9 & 0 & 300 & 108 & 71 &  68.17 & 0 & 43\\\\\n\t106 & 0 &  8 & 0 & 900 & 12 & 9 & 0 & 300 &  60 & 49 &  44.12 & 1 & 45\\\\\n\t121 & 0 &  9 & 0 & 900 & 12 & 9 & 0 & 300 &  43 & 45 &  38.34 & 1 & 47\\\\\n\t136 & 0 & 10 & 0 & 900 & 12 & 9 & 0 & 300 &  77 & 84 & 192.38 & 0 & 47\\\\\n\t151 & 0 & 11 & 0 & 900 & 12 & 9 & 0 & 300 &  79 & 65 &  56.18 & 1 & 48\\\\\n\t166 & 0 & 12 & 0 & 900 & 12 & 9 & 0 & 300 &  69 & 57 &  47.30 & 1 & 45\\\\\n\t181 & 0 & 13 & 0 & 900 & 12 & 9 & 0 & 300 &  61 & 39 &  38.53 & 1 & 48\\\\\n\t196 & 0 & 14 & 0 & 900 & 12 & 9 & 0 & 300 &  67 & 75 &  80.83 & 0 & 46\\\\\n\t211 & 0 & 15 & 0 & 900 & 12 & 9 & 0 & 300 &  69 & 49 &  57.22 & 1 & 50\\\\\n\t226 & 0 & 16 & 0 & 900 & 12 & 9 & 0 & 300 &  98 & 84 & 110.15 & 0 & 44\\\\\n\t241 & 0 & 17 & 0 & 900 & 12 & 9 & 0 & 300 &  66 & 54 &  47.10 & 1 & 51\\\\\n\t256 & 0 & 18 & 0 & 900 & 12 & 9 & 0 & 300 &  47 & 41 &  38.60 & 1 & 38\\\\\n\t271 & 0 & 19 & 0 & 900 & 12 & 9 & 0 & 300 &  51 & 62 &  65.08 & 0 & 47\\\\\n\t286 & 0 & 20 & 0 & 900 & 12 & 9 & 0 & 300 &  55 & 34 &  24.58 & 1 & 48\\\\\n\t301 & 0 & 21 & 0 & 900 & 12 & 9 & 0 & 300 &  57 & 59 &  60.65 & 0 & 45\\\\\n\t316 & 0 & 22 & 0 & 900 & 12 & 9 & 0 & 300 &  76 & 67 &  64.10 & 0 & 47\\\\\n\t331 & 0 & 23 & 0 & 900 & 12 & 9 & 0 & 300 &  86 & 96 & 135.65 & 0 & 45\\\\\n\t346 & 0 & 24 & 0 & 900 & 12 & 9 & 0 & 300 &  55 & 55 &  47.84 & 0 & 44\\\\\n\t361 & 0 & 25 & 0 & 900 & 12 & 9 & 0 & 300 &  63 & 57 &  61.69 & 1 & 49\\\\\n\t376 & 0 & 26 & 0 & 900 & 12 & 9 & 0 & 300 &  82 & 60 &  49.90 & 0 & 45\\\\\n\t391 & 0 & 27 & 0 & 900 & 12 & 9 & 0 & 300 &  55 & 51 &  50.26 & 1 & 44\\\\\n\t406 & 0 & 28 & 0 & 900 & 12 & 9 & 0 & 300 &  73 & 74 &  68.44 & 0 & 45\\\\\n\t421 & 0 & 29 & 0 & 900 & 12 & 9 & 0 & 300 &  79 & 59 &  77.82 & 0 & 48\\\\\n\t436 & 0 & 30 & 0 & 900 & 12 & 9 & 0 & 300 &  41 & 40 &  47.91 & 1 & 44\\\\\n\t451 & 0 & 31 & 0 & 900 & 12 & 9 & 0 & 300 &  65 & 49 &  40.89 & 1 & 45\\\\\n\t466 & 0 & 32 & 0 & 900 & 12 & 9 & 0 & 300 &  55 & 43 &  34.28 & 1 & 46\\\\\n\t481 & 0 & 33 & 0 & 900 & 12 & 9 & 0 & 300 &  74 & 64 &  74.07 & 0 & 42\\\\\n\t496 & 0 & 34 & 0 & 900 & 12 & 9 & 0 & 300 &  64 & 70 &  92.77 & 0 & 47\\\\\n\t511 & 0 & 35 & 0 & 900 & 12 & 9 & 0 & 300 &  81 & 67 &  62.11 & 0 & 42\\\\\n\t526 & 0 & 36 & 0 & 900 & 12 & 9 & 0 & 300 &  92 & 53 &  50.22 & 1 & 47\\\\\n\t541 & 0 & 37 & 0 & 900 & 12 & 9 & 0 & 300 &  95 & 78 & 124.74 & 0 & 43\\\\\n\t556 & 0 & 38 & 0 & 900 & 12 & 9 & 0 & 300 &  76 & 51 &  54.69 & 1 & 42\\\\\n\t571 & 0 & 39 & 0 & 900 & 12 & 9 & 0 & 300 &  69 & 57 &  72.49 & 0 & 44\\\\\n\t586 & 0 & 40 & 0 & 900 & 12 & 9 & 0 & 300 &  68 & 71 &  91.46 & 0 & 48\\\\\n\\end{tabular}\n",
            "text/plain": [
              "    C ID DV AMT II ADDL TIME RATE HT  WT CLCR   SEX AGE\n",
              "1   0  1 0  900 12 9    0    300  103 91 101.48 0   46 \n",
              "16  0  2 0  900 12 9    0    300   53 47  52.84 0   44 \n",
              "31  0  3 0  900 12 9    0    300   69 56  63.78 1   41 \n",
              "46  0  4 0  900 12 9    0    300   67 57  46.16 0   48 \n",
              "61  0  5 0  900 12 9    0    300   76 66  70.34 0   51 \n",
              "76  0  6 0  900 12 9    0    300   89 74  56.59 0   47 \n",
              "91  0  7 0  900 12 9    0    300  108 71  68.17 0   43 \n",
              "106 0  8 0  900 12 9    0    300   60 49  44.12 1   45 \n",
              "121 0  9 0  900 12 9    0    300   43 45  38.34 1   47 \n",
              "136 0 10 0  900 12 9    0    300   77 84 192.38 0   47 \n",
              "151 0 11 0  900 12 9    0    300   79 65  56.18 1   48 \n",
              "166 0 12 0  900 12 9    0    300   69 57  47.30 1   45 \n",
              "181 0 13 0  900 12 9    0    300   61 39  38.53 1   48 \n",
              "196 0 14 0  900 12 9    0    300   67 75  80.83 0   46 \n",
              "211 0 15 0  900 12 9    0    300   69 49  57.22 1   50 \n",
              "226 0 16 0  900 12 9    0    300   98 84 110.15 0   44 \n",
              "241 0 17 0  900 12 9    0    300   66 54  47.10 1   51 \n",
              "256 0 18 0  900 12 9    0    300   47 41  38.60 1   38 \n",
              "271 0 19 0  900 12 9    0    300   51 62  65.08 0   47 \n",
              "286 0 20 0  900 12 9    0    300   55 34  24.58 1   48 \n",
              "301 0 21 0  900 12 9    0    300   57 59  60.65 0   45 \n",
              "316 0 22 0  900 12 9    0    300   76 67  64.10 0   47 \n",
              "331 0 23 0  900 12 9    0    300   86 96 135.65 0   45 \n",
              "346 0 24 0  900 12 9    0    300   55 55  47.84 0   44 \n",
              "361 0 25 0  900 12 9    0    300   63 57  61.69 1   49 \n",
              "376 0 26 0  900 12 9    0    300   82 60  49.90 0   45 \n",
              "391 0 27 0  900 12 9    0    300   55 51  50.26 1   44 \n",
              "406 0 28 0  900 12 9    0    300   73 74  68.44 0   45 \n",
              "421 0 29 0  900 12 9    0    300   79 59  77.82 0   48 \n",
              "436 0 30 0  900 12 9    0    300   41 40  47.91 1   44 \n",
              "451 0 31 0  900 12 9    0    300   65 49  40.89 1   45 \n",
              "466 0 32 0  900 12 9    0    300   55 43  34.28 1   46 \n",
              "481 0 33 0  900 12 9    0    300   74 64  74.07 0   42 \n",
              "496 0 34 0  900 12 9    0    300   64 70  92.77 0   47 \n",
              "511 0 35 0  900 12 9    0    300   81 67  62.11 0   42 \n",
              "526 0 36 0  900 12 9    0    300   92 53  50.22 1   47 \n",
              "541 0 37 0  900 12 9    0    300   95 78 124.74 0   43 \n",
              "556 0 38 0  900 12 9    0    300   76 51  54.69 1   42 \n",
              "571 0 39 0  900 12 9    0    300   69 57  72.49 0   44 \n",
              "586 0 40 0  900 12 9    0    300   68 71  91.46 0   48 "
            ]
          },
          "metadata": {}
        }
      ]
    },
    {
      "cell_type": "code",
      "source": [
        "#determine minimum and maximum CRCL in this subset of prob1.\n",
        "summary(newprob1$CLCR)"
      ],
      "metadata": {
        "colab": {
          "base_uri": "https://localhost:8080/",
          "height": 54
        },
        "id": "vDBFLrOtRnit",
        "outputId": "93598639-17e5-44ac-d44c-c3453cf416b7"
      },
      "execution_count": 31,
      "outputs": [
        {
          "output_type": "display_data",
          "data": {
            "text/plain": [
              "   Min. 1st Qu.  Median    Mean 3rd Qu.    Max. \n",
              "  24.58   47.70   58.94   66.54   72.89  192.38 "
            ]
          },
          "metadata": {}
        }
      ]
    },
    {
      "cell_type": "code",
      "source": [
        "#Alternative:\n",
        "paste('minimum is', min(newprob1$CLCR))\n",
        "\n",
        "paste('maximum is', max(newprob1$CLCR))"
      ],
      "metadata": {
        "colab": {
          "base_uri": "https://localhost:8080/",
          "height": 52
        },
        "id": "OErO-VkuSsKm",
        "outputId": "1ee62470-160a-47bd-d8c1-51edbb991755"
      },
      "execution_count": 33,
      "outputs": [
        {
          "output_type": "display_data",
          "data": {
            "text/html": [
              "'minimum is 24.58'"
            ],
            "text/markdown": "'minimum is 24.58'",
            "text/latex": "'minimum is 24.58'",
            "text/plain": [
              "[1] \"minimum is 24.58\""
            ]
          },
          "metadata": {}
        },
        {
          "output_type": "display_data",
          "data": {
            "text/html": [
              "'maximum is 192.38'"
            ],
            "text/markdown": "'maximum is 192.38'",
            "text/latex": "'maximum is 192.38'",
            "text/plain": [
              "[1] \"maximum is 192.38\""
            ]
          },
          "metadata": {}
        }
      ]
    },
    {
      "cell_type": "code",
      "source": [
        "#problem 6: Load the women data set. Write a function that converts weight in pounds to weight\n",
        "#in kilograms. Convert the weight variable in the women data set from pounds to\n",
        "#kilograms using your function with lapply."
      ],
      "metadata": {
        "id": "-IPl_5bUTZqh"
      },
      "execution_count": null,
      "outputs": []
    },
    {
      "cell_type": "code",
      "source": [
        "head(women)"
      ],
      "metadata": {
        "colab": {
          "base_uri": "https://localhost:8080/",
          "height": 286
        },
        "id": "-qNO3lWsTkNU",
        "outputId": "74bcfd24-596d-4ab9-b767-618649a6d4ae"
      },
      "execution_count": 35,
      "outputs": [
        {
          "output_type": "display_data",
          "data": {
            "text/html": [
              "<table class=\"dataframe\">\n",
              "<caption>A data.frame: 6 × 2</caption>\n",
              "<thead>\n",
              "\t<tr><th></th><th scope=col>height</th><th scope=col>weight</th></tr>\n",
              "\t<tr><th></th><th scope=col>&lt;dbl&gt;</th><th scope=col>&lt;dbl&gt;</th></tr>\n",
              "</thead>\n",
              "<tbody>\n",
              "\t<tr><th scope=row>1</th><td>58</td><td>115</td></tr>\n",
              "\t<tr><th scope=row>2</th><td>59</td><td>117</td></tr>\n",
              "\t<tr><th scope=row>3</th><td>60</td><td>120</td></tr>\n",
              "\t<tr><th scope=row>4</th><td>61</td><td>123</td></tr>\n",
              "\t<tr><th scope=row>5</th><td>62</td><td>126</td></tr>\n",
              "\t<tr><th scope=row>6</th><td>63</td><td>129</td></tr>\n",
              "</tbody>\n",
              "</table>\n"
            ],
            "text/markdown": "\nA data.frame: 6 × 2\n\n| <!--/--> | height &lt;dbl&gt; | weight &lt;dbl&gt; |\n|---|---|---|\n| 1 | 58 | 115 |\n| 2 | 59 | 117 |\n| 3 | 60 | 120 |\n| 4 | 61 | 123 |\n| 5 | 62 | 126 |\n| 6 | 63 | 129 |\n\n",
            "text/latex": "A data.frame: 6 × 2\n\\begin{tabular}{r|ll}\n  & height & weight\\\\\n  & <dbl> & <dbl>\\\\\n\\hline\n\t1 & 58 & 115\\\\\n\t2 & 59 & 117\\\\\n\t3 & 60 & 120\\\\\n\t4 & 61 & 123\\\\\n\t5 & 62 & 126\\\\\n\t6 & 63 & 129\\\\\n\\end{tabular}\n",
            "text/plain": [
              "  height weight\n",
              "1 58     115   \n",
              "2 59     117   \n",
              "3 60     120   \n",
              "4 61     123   \n",
              "5 62     126   \n",
              "6 63     129   "
            ]
          },
          "metadata": {}
        }
      ]
    },
    {
      "cell_type": "code",
      "source": [
        "str(women)"
      ],
      "metadata": {
        "colab": {
          "base_uri": "https://localhost:8080/"
        },
        "id": "cZiOUWceUPRa",
        "outputId": "8852e46d-f057-4087-c587-ffe27fc190ea"
      },
      "execution_count": 37,
      "outputs": [
        {
          "output_type": "stream",
          "name": "stdout",
          "text": [
            "'data.frame':\t15 obs. of  2 variables:\n",
            " $ height: num  58 59 60 61 62 63 64 65 66 67 ...\n",
            " $ weight: num  115 117 120 123 126 129 132 135 139 142 ...\n"
          ]
        }
      ]
    },
    {
      "cell_type": "code",
      "source": [
        "conversion<- function(x)x/2.2\n",
        "lapply(women$weight, conversion)"
      ],
      "metadata": {
        "colab": {
          "base_uri": "https://localhost:8080/",
          "height": 305
        },
        "id": "23CbiIUCTnX3",
        "outputId": "4a6794ca-a87f-4a41-a1e1-99740d3f939b"
      },
      "execution_count": 36,
      "outputs": [
        {
          "output_type": "display_data",
          "data": {
            "text/html": [
              "<ol>\n",
              "\t<li>52.2727272727273</li>\n",
              "\t<li>53.1818181818182</li>\n",
              "\t<li>54.5454545454545</li>\n",
              "\t<li>55.9090909090909</li>\n",
              "\t<li>57.2727272727273</li>\n",
              "\t<li>58.6363636363636</li>\n",
              "\t<li>60</li>\n",
              "\t<li>61.3636363636364</li>\n",
              "\t<li>63.1818181818182</li>\n",
              "\t<li>64.5454545454545</li>\n",
              "\t<li>66.3636363636364</li>\n",
              "\t<li>68.1818181818182</li>\n",
              "\t<li>70</li>\n",
              "\t<li>72.2727272727273</li>\n",
              "\t<li>74.5454545454545</li>\n",
              "</ol>\n"
            ],
            "text/markdown": "1. 52.2727272727273\n2. 53.1818181818182\n3. 54.5454545454545\n4. 55.9090909090909\n5. 57.2727272727273\n6. 58.6363636363636\n7. 60\n8. 61.3636363636364\n9. 63.1818181818182\n10. 64.5454545454545\n11. 66.3636363636364\n12. 68.1818181818182\n13. 70\n14. 72.2727272727273\n15. 74.5454545454545\n\n\n",
            "text/latex": "\\begin{enumerate}\n\\item 52.2727272727273\n\\item 53.1818181818182\n\\item 54.5454545454545\n\\item 55.9090909090909\n\\item 57.2727272727273\n\\item 58.6363636363636\n\\item 60\n\\item 61.3636363636364\n\\item 63.1818181818182\n\\item 64.5454545454545\n\\item 66.3636363636364\n\\item 68.1818181818182\n\\item 70\n\\item 72.2727272727273\n\\item 74.5454545454545\n\\end{enumerate}\n",
            "text/plain": [
              "[[1]]\n",
              "[1] 52.27273\n",
              "\n",
              "[[2]]\n",
              "[1] 53.18182\n",
              "\n",
              "[[3]]\n",
              "[1] 54.54545\n",
              "\n",
              "[[4]]\n",
              "[1] 55.90909\n",
              "\n",
              "[[5]]\n",
              "[1] 57.27273\n",
              "\n",
              "[[6]]\n",
              "[1] 58.63636\n",
              "\n",
              "[[7]]\n",
              "[1] 60\n",
              "\n",
              "[[8]]\n",
              "[1] 61.36364\n",
              "\n",
              "[[9]]\n",
              "[1] 63.18182\n",
              "\n",
              "[[10]]\n",
              "[1] 64.54545\n",
              "\n",
              "[[11]]\n",
              "[1] 66.36364\n",
              "\n",
              "[[12]]\n",
              "[1] 68.18182\n",
              "\n",
              "[[13]]\n",
              "[1] 70\n",
              "\n",
              "[[14]]\n",
              "[1] 72.27273\n",
              "\n",
              "[[15]]\n",
              "[1] 74.54545\n"
            ]
          },
          "metadata": {}
        }
      ]
    }
  ]
}